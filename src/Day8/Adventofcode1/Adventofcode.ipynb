{
  "nbformat": 4,
  "nbformat_minor": 0,
  "metadata": {
    "colab": {
      "name": "Advent of code",
      "provenance": [],
      "authorship_tag": "ABX9TyNEitwTWJvzoE6Vsgji9wQu"
    },
    "kernelspec": {
      "name": "python3",
      "display_name": "Python 3"
    },
    "language_info": {
      "name": "python"
    }
  },
  "cells": [
    {
      "cell_type": "code",
      "source": [
        "import pandas as pd\n",
        "import numpy as np"
      ],
      "metadata": {
        "id": "qQAgsWe1rGBb"
      },
      "execution_count": 2,
      "outputs": []
    },
    {
      "cell_type": "code",
      "source": [
        "from google.colab import drive\n",
        "drive.mount('/gdrive')\n",
        "%cd /gdrive"
      ],
      "metadata": {
        "colab": {
          "base_uri": "https://localhost:8080/"
        },
        "id": "Iwnj0SzMrI3w",
        "outputId": "b1fc345c-5735-41ba-87fc-035aa7ad6c06"
      },
      "execution_count": 1,
      "outputs": [
        {
          "output_type": "stream",
          "name": "stdout",
          "text": [
            "Mounted at /gdrive\n",
            "/gdrive\n"
          ]
        }
      ]
    },
    {
      "cell_type": "code",
      "source": [
        "!ls /gdrive/MyDrive/AdventOfCode"
      ],
      "metadata": {
        "colab": {
          "base_uri": "https://localhost:8080/"
        },
        "id": "UWBadJzsrXz0",
        "outputId": "6f6173b7-1c1b-45f9-90ec-1a95591cea72"
      },
      "execution_count": 3,
      "outputs": [
        {
          "output_type": "stream",
          "name": "stdout",
          "text": [
            "Day1  Day2  Day3  Day4\n"
          ]
        }
      ]
    },
    {
      "cell_type": "markdown",
      "source": [
        "# Day 1"
      ],
      "metadata": {
        "id": "qEVNVOb8eDOS"
      }
    },
    {
      "cell_type": "markdown",
      "source": [
        "## Part 1"
      ],
      "metadata": {
        "id": "DGX8HTbvhL58"
      }
    },
    {
      "cell_type": "code",
      "source": [
        "data_day1 = pd.read_table(\"/gdrive/MyDrive/AdventOfCode/Day1/input.txt\", header=None, names=[\"input\"])"
      ],
      "metadata": {
        "id": "Pq_P1BmueFgP"
      },
      "execution_count": null,
      "outputs": []
    },
    {
      "cell_type": "code",
      "source": [
        "print(type(data_day1))\n",
        "print(type(data_day1.input))\n",
        "\n",
        "# display(data_day1)\n",
        "(data_day1.input.diff() > 0).sum()"
      ],
      "metadata": {
        "colab": {
          "base_uri": "https://localhost:8080/"
        },
        "id": "SH0xAfpkdclk",
        "outputId": "59b9c19e-90b0-468d-bed4-07df200a010b"
      },
      "execution_count": null,
      "outputs": [
        {
          "output_type": "stream",
          "name": "stdout",
          "text": [
            "<class 'pandas.core.frame.DataFrame'>\n",
            "<class 'pandas.core.series.Series'>\n"
          ]
        },
        {
          "output_type": "execute_result",
          "data": {
            "text/plain": [
              "1665"
            ]
          },
          "metadata": {},
          "execution_count": 25
        }
      ]
    },
    {
      "cell_type": "code",
      "source": [
        "# %%time\n",
        "(data_day1.input.diff() > 0).sum()"
      ],
      "metadata": {
        "colab": {
          "base_uri": "https://localhost:8080/"
        },
        "id": "BEYBcFVBeJnd",
        "outputId": "0d7623aa-03b1-4f72-f4ab-ce8e827cc1b6"
      },
      "execution_count": null,
      "outputs": [
        {
          "output_type": "execute_result",
          "data": {
            "text/plain": [
              "1665"
            ]
          },
          "metadata": {},
          "execution_count": 38
        }
      ]
    },
    {
      "cell_type": "code",
      "source": [
        "%%timeit\n",
        "soma_crescendo = 0\n",
        "for i in range(data_day1.input.size - 1):\n",
        "    if data_day1.input.values[i] < data_day1.input.values[i + 1]:\n",
        "        soma_crescendo += 1\n",
        "soma_crescendo"
      ],
      "metadata": {
        "colab": {
          "base_uri": "https://localhost:8080/"
        },
        "id": "7c9VzVlteyTF",
        "outputId": "81dd5b50-e3fa-48f2-ff3e-0eff30f9d96c"
      },
      "execution_count": null,
      "outputs": [
        {
          "output_type": "stream",
          "name": "stdout",
          "text": [
            "CPU times: user 44.7 ms, sys: 624 µs, total: 45.4 ms\n",
            "Wall time: 61.1 ms\n"
          ]
        }
      ]
    },
    {
      "cell_type": "markdown",
      "source": [
        "## Part 2"
      ],
      "metadata": {
        "id": "1p1Dfu2ShNmw"
      }
    },
    {
      "cell_type": "code",
      "source": [
        "data_day1['part2'] = data_day1.input.rolling(3).sum()"
      ],
      "metadata": {
        "id": "7y3fAyT0hO_O"
      },
      "execution_count": null,
      "outputs": []
    },
    {
      "cell_type": "code",
      "source": [
        "(data_day1.part2.diff() > 0).sum()"
      ],
      "metadata": {
        "colab": {
          "base_uri": "https://localhost:8080/"
        },
        "id": "K3lFgQPij2UJ",
        "outputId": "3b7a5fae-4292-45a2-b537-4648cc54b051"
      },
      "execution_count": null,
      "outputs": [
        {
          "output_type": "execute_result",
          "data": {
            "text/plain": [
              "1702"
            ]
          },
          "metadata": {},
          "execution_count": 43
        }
      ]
    },
    {
      "cell_type": "code",
      "source": [
        "list_soma_3 = []\n",
        "for i in range(data_day1.input.size - 2):\n",
        "    list_soma_3.append(data_day1.input.values[i] + data_day1.input.values[i + 1] + data_day1.input.values[i + 2])"
      ],
      "metadata": {
        "id": "bCG6FcShhR61"
      },
      "execution_count": null,
      "outputs": []
    },
    {
      "cell_type": "code",
      "source": [
        "soma_crescendo = 0\n",
        "for i in range(len(list_soma_3)):\n",
        "    try:\n",
        "        if list_soma_3[i] < list_soma_3[i + 1]:\n",
        "            soma_crescendo += 1\n",
        "    except:\n",
        "        pass\n",
        "soma_crescendo"
      ],
      "metadata": {
        "colab": {
          "base_uri": "https://localhost:8080/"
        },
        "id": "NjeXSmp7hqQ8",
        "outputId": "78d4dfd3-fa38-4081-a599-b8306cd01932"
      },
      "execution_count": null,
      "outputs": [
        {
          "output_type": "execute_result",
          "data": {
            "text/plain": [
              "1702"
            ]
          },
          "metadata": {},
          "execution_count": 52
        }
      ]
    },
    {
      "cell_type": "markdown",
      "source": [
        "# Day 2"
      ],
      "metadata": {
        "id": "B1sQdvMohGyG"
      }
    },
    {
      "cell_type": "markdown",
      "source": [
        "## Part 1"
      ],
      "metadata": {
        "id": "rLW5ZbEn3qbE"
      }
    },
    {
      "cell_type": "code",
      "source": [
        "data_day2 = pd.read_table(\"/gdrive/MyDrive/AdventOfCode/Day2/input.txt\", header=None, delimiter=' ', names=['command', \"value\"])\n",
        "data_day2"
      ],
      "metadata": {
        "id": "5xvl5ozuhHf3",
        "colab": {
          "base_uri": "https://localhost:8080/",
          "height": 424
        },
        "outputId": "fa0cc21b-a81f-4d72-a51f-ce4090c1b60a"
      },
      "execution_count": null,
      "outputs": [
        {
          "output_type": "execute_result",
          "data": {
            "text/html": [
              "<div>\n",
              "<style scoped>\n",
              "    .dataframe tbody tr th:only-of-type {\n",
              "        vertical-align: middle;\n",
              "    }\n",
              "\n",
              "    .dataframe tbody tr th {\n",
              "        vertical-align: top;\n",
              "    }\n",
              "\n",
              "    .dataframe thead th {\n",
              "        text-align: right;\n",
              "    }\n",
              "</style>\n",
              "<table border=\"1\" class=\"dataframe\">\n",
              "  <thead>\n",
              "    <tr style=\"text-align: right;\">\n",
              "      <th></th>\n",
              "      <th>command</th>\n",
              "      <th>value</th>\n",
              "    </tr>\n",
              "  </thead>\n",
              "  <tbody>\n",
              "    <tr>\n",
              "      <th>0</th>\n",
              "      <td>forward</td>\n",
              "      <td>6</td>\n",
              "    </tr>\n",
              "    <tr>\n",
              "      <th>1</th>\n",
              "      <td>forward</td>\n",
              "      <td>6</td>\n",
              "    </tr>\n",
              "    <tr>\n",
              "      <th>2</th>\n",
              "      <td>down</td>\n",
              "      <td>6</td>\n",
              "    </tr>\n",
              "    <tr>\n",
              "      <th>3</th>\n",
              "      <td>down</td>\n",
              "      <td>5</td>\n",
              "    </tr>\n",
              "    <tr>\n",
              "      <th>4</th>\n",
              "      <td>up</td>\n",
              "      <td>2</td>\n",
              "    </tr>\n",
              "    <tr>\n",
              "      <th>...</th>\n",
              "      <td>...</td>\n",
              "      <td>...</td>\n",
              "    </tr>\n",
              "    <tr>\n",
              "      <th>995</th>\n",
              "      <td>up</td>\n",
              "      <td>4</td>\n",
              "    </tr>\n",
              "    <tr>\n",
              "      <th>996</th>\n",
              "      <td>up</td>\n",
              "      <td>4</td>\n",
              "    </tr>\n",
              "    <tr>\n",
              "      <th>997</th>\n",
              "      <td>forward</td>\n",
              "      <td>8</td>\n",
              "    </tr>\n",
              "    <tr>\n",
              "      <th>998</th>\n",
              "      <td>forward</td>\n",
              "      <td>1</td>\n",
              "    </tr>\n",
              "    <tr>\n",
              "      <th>999</th>\n",
              "      <td>forward</td>\n",
              "      <td>2</td>\n",
              "    </tr>\n",
              "  </tbody>\n",
              "</table>\n",
              "<p>1000 rows × 2 columns</p>\n",
              "</div>"
            ],
            "text/plain": [
              "     command  value\n",
              "0    forward      6\n",
              "1    forward      6\n",
              "2       down      6\n",
              "3       down      5\n",
              "4         up      2\n",
              "..       ...    ...\n",
              "995       up      4\n",
              "996       up      4\n",
              "997  forward      8\n",
              "998  forward      1\n",
              "999  forward      2\n",
              "\n",
              "[1000 rows x 2 columns]"
            ]
          },
          "metadata": {},
          "execution_count": 55
        }
      ]
    },
    {
      "cell_type": "code",
      "source": [
        "data_day2['x'] = data_day2.loc[data_day2.command == 'forward', 'value']\n",
        "data_day2['y'] = data_day2.apply(lambda x: -x['value'] if x['command'] == 'up' else x['value'] if x['command'] == 'down' else np.NaN, axis=1)"
      ],
      "metadata": {
        "id": "4h65HX8_s8U3"
      },
      "execution_count": null,
      "outputs": []
    },
    {
      "cell_type": "code",
      "source": [
        "print(f'x: {data_day2.x.sum()} | y : {data_day2.y.sum()} | total: {data_day2.x.sum() * data_day2.y.sum()}')"
      ],
      "metadata": {
        "colab": {
          "base_uri": "https://localhost:8080/"
        },
        "id": "4nSbFxcP2uH_",
        "outputId": "0a5c9a99-ee58-46e4-f07e-1dd0738efbc9"
      },
      "execution_count": null,
      "outputs": [
        {
          "output_type": "stream",
          "name": "stdout",
          "text": [
            "x: 1988.0 | y : 913.0 | total: 1815044.0\n"
          ]
        }
      ]
    },
    {
      "cell_type": "code",
      "source": [
        "x = 0\n",
        "y = 0\n",
        "with open('/gdrive/MyDrive/AdventOfCode/Day2/input.txt') as f:\n",
        "    for l in f:\n",
        "        command, value = l.split(' ')\n",
        "        if command == 'forward':\n",
        "            x += int(value)\n",
        "        elif command == 'down':\n",
        "            y += int(value)\n",
        "        elif command == 'up':\n",
        "            y -= int(value)\n",
        "print(x * y)"
      ],
      "metadata": {
        "colab": {
          "base_uri": "https://localhost:8080/"
        },
        "id": "me0nuItxjZGb",
        "outputId": "c15ca04e-aa3e-4e5e-8462-e1f4ae976045"
      },
      "execution_count": null,
      "outputs": [
        {
          "output_type": "stream",
          "name": "stdout",
          "text": [
            "1815044\n"
          ]
        }
      ]
    },
    {
      "cell_type": "markdown",
      "source": [
        "## Part 2"
      ],
      "metadata": {
        "id": "R6njH2rE3sOA"
      }
    },
    {
      "cell_type": "code",
      "source": [
        "data_day2['aim'] = data_day2.y.cumsum().fillna(method='ffill').fillna(0)"
      ],
      "metadata": {
        "id": "VC6qafcg27E8"
      },
      "execution_count": null,
      "outputs": []
    },
    {
      "cell_type": "code",
      "source": [
        "data_day2['y_2'] = data_day2.apply(lambda x: x['aim'] * x['value'] if x['command'] == 'forward' else np.NaN, axis=1)"
      ],
      "metadata": {
        "id": "maOz3KWL4bXF"
      },
      "execution_count": null,
      "outputs": []
    },
    {
      "cell_type": "code",
      "source": [
        "print(f'x: {data_day2.x.sum()} | y2 : {data_day2.y_2.sum()} | total: {data_day2.x.sum() * data_day2.y_2.sum()}')"
      ],
      "metadata": {
        "colab": {
          "base_uri": "https://localhost:8080/"
        },
        "id": "mEK5gPuL4cdV",
        "outputId": "ceab1d6d-688e-4ec2-e770-913d423b9304"
      },
      "execution_count": null,
      "outputs": [
        {
          "output_type": "stream",
          "name": "stdout",
          "text": [
            "x: 1988.0 | y2 : 874891.0 | total: 1739283308.0\n"
          ]
        }
      ]
    },
    {
      "cell_type": "code",
      "source": [
        "x = 0\n",
        "aim = 0\n",
        "y = 0\n",
        "with open('/gdrive/MyDrive/AdventOfCode/Day2/input.txt') as f:\n",
        "    for l in f:\n",
        "        command, value = l.split(' ')\n",
        "        if command == 'forward':\n",
        "            x += int(value)\n",
        "            y += aim * int(value)\n",
        "        elif command == 'down':\n",
        "            aim += int(value)\n",
        "        elif command == 'up':\n",
        "            aim -= int(value)\n",
        "print(x * y)"
      ],
      "metadata": {
        "colab": {
          "base_uri": "https://localhost:8080/"
        },
        "id": "XncyjPNslsMi",
        "outputId": "9b775b3a-cfb0-4721-f570-9b73d6943ab5"
      },
      "execution_count": null,
      "outputs": [
        {
          "output_type": "stream",
          "name": "stdout",
          "text": [
            "1739283308\n"
          ]
        }
      ]
    },
    {
      "cell_type": "markdown",
      "source": [
        "# Day 3"
      ],
      "metadata": {
        "id": "58CCFZBsorxz"
      }
    },
    {
      "cell_type": "markdown",
      "source": [
        "## Part 1"
      ],
      "metadata": {
        "id": "2ElEvqTfovqI"
      }
    },
    {
      "cell_type": "code",
      "source": [
        "data_day3 = pd.read_table(\"/gdrive/MyDrive/AdventOfCode/Day3/input.txt\", header=None, names=['data'], dtype=str)\n",
        "data_day3 = data_day3.data.apply(lambda x: pd.Series(list(x)))\n",
        "data_day3"
      ],
      "metadata": {
        "colab": {
          "base_uri": "https://localhost:8080/",
          "height": 424
        },
        "id": "Y6N0VcuhosrI",
        "outputId": "62bcd450-1bfb-444a-81d3-60bec69eb455"
      },
      "execution_count": null,
      "outputs": [
        {
          "output_type": "execute_result",
          "data": {
            "text/html": [
              "\n",
              "  <div id=\"df-7369a00f-f7d7-4724-a3c0-9e2d4529323b\">\n",
              "    <div class=\"colab-df-container\">\n",
              "      <div>\n",
              "<style scoped>\n",
              "    .dataframe tbody tr th:only-of-type {\n",
              "        vertical-align: middle;\n",
              "    }\n",
              "\n",
              "    .dataframe tbody tr th {\n",
              "        vertical-align: top;\n",
              "    }\n",
              "\n",
              "    .dataframe thead th {\n",
              "        text-align: right;\n",
              "    }\n",
              "</style>\n",
              "<table border=\"1\" class=\"dataframe\">\n",
              "  <thead>\n",
              "    <tr style=\"text-align: right;\">\n",
              "      <th></th>\n",
              "      <th>0</th>\n",
              "      <th>1</th>\n",
              "      <th>2</th>\n",
              "      <th>3</th>\n",
              "      <th>4</th>\n",
              "      <th>5</th>\n",
              "      <th>6</th>\n",
              "      <th>7</th>\n",
              "      <th>8</th>\n",
              "      <th>9</th>\n",
              "      <th>10</th>\n",
              "      <th>11</th>\n",
              "    </tr>\n",
              "  </thead>\n",
              "  <tbody>\n",
              "    <tr>\n",
              "      <th>0</th>\n",
              "      <td>1</td>\n",
              "      <td>0</td>\n",
              "      <td>1</td>\n",
              "      <td>0</td>\n",
              "      <td>1</td>\n",
              "      <td>1</td>\n",
              "      <td>1</td>\n",
              "      <td>1</td>\n",
              "      <td>1</td>\n",
              "      <td>0</td>\n",
              "      <td>0</td>\n",
              "      <td>1</td>\n",
              "    </tr>\n",
              "    <tr>\n",
              "      <th>1</th>\n",
              "      <td>1</td>\n",
              "      <td>0</td>\n",
              "      <td>0</td>\n",
              "      <td>1</td>\n",
              "      <td>0</td>\n",
              "      <td>0</td>\n",
              "      <td>1</td>\n",
              "      <td>1</td>\n",
              "      <td>0</td>\n",
              "      <td>1</td>\n",
              "      <td>1</td>\n",
              "      <td>1</td>\n",
              "    </tr>\n",
              "    <tr>\n",
              "      <th>2</th>\n",
              "      <td>1</td>\n",
              "      <td>0</td>\n",
              "      <td>1</td>\n",
              "      <td>0</td>\n",
              "      <td>1</td>\n",
              "      <td>0</td>\n",
              "      <td>1</td>\n",
              "      <td>0</td>\n",
              "      <td>1</td>\n",
              "      <td>0</td>\n",
              "      <td>1</td>\n",
              "      <td>1</td>\n",
              "    </tr>\n",
              "    <tr>\n",
              "      <th>3</th>\n",
              "      <td>0</td>\n",
              "      <td>1</td>\n",
              "      <td>0</td>\n",
              "      <td>1</td>\n",
              "      <td>0</td>\n",
              "      <td>0</td>\n",
              "      <td>0</td>\n",
              "      <td>1</td>\n",
              "      <td>0</td>\n",
              "      <td>0</td>\n",
              "      <td>0</td>\n",
              "      <td>0</td>\n",
              "    </tr>\n",
              "    <tr>\n",
              "      <th>4</th>\n",
              "      <td>0</td>\n",
              "      <td>0</td>\n",
              "      <td>1</td>\n",
              "      <td>1</td>\n",
              "      <td>0</td>\n",
              "      <td>1</td>\n",
              "      <td>1</td>\n",
              "      <td>0</td>\n",
              "      <td>1</td>\n",
              "      <td>1</td>\n",
              "      <td>0</td>\n",
              "      <td>1</td>\n",
              "    </tr>\n",
              "    <tr>\n",
              "      <th>...</th>\n",
              "      <td>...</td>\n",
              "      <td>...</td>\n",
              "      <td>...</td>\n",
              "      <td>...</td>\n",
              "      <td>...</td>\n",
              "      <td>...</td>\n",
              "      <td>...</td>\n",
              "      <td>...</td>\n",
              "      <td>...</td>\n",
              "      <td>...</td>\n",
              "      <td>...</td>\n",
              "      <td>...</td>\n",
              "    </tr>\n",
              "    <tr>\n",
              "      <th>995</th>\n",
              "      <td>0</td>\n",
              "      <td>1</td>\n",
              "      <td>0</td>\n",
              "      <td>0</td>\n",
              "      <td>0</td>\n",
              "      <td>0</td>\n",
              "      <td>0</td>\n",
              "      <td>0</td>\n",
              "      <td>1</td>\n",
              "      <td>0</td>\n",
              "      <td>1</td>\n",
              "      <td>1</td>\n",
              "    </tr>\n",
              "    <tr>\n",
              "      <th>996</th>\n",
              "      <td>1</td>\n",
              "      <td>0</td>\n",
              "      <td>0</td>\n",
              "      <td>0</td>\n",
              "      <td>0</td>\n",
              "      <td>0</td>\n",
              "      <td>0</td>\n",
              "      <td>1</td>\n",
              "      <td>0</td>\n",
              "      <td>0</td>\n",
              "      <td>1</td>\n",
              "      <td>1</td>\n",
              "    </tr>\n",
              "    <tr>\n",
              "      <th>997</th>\n",
              "      <td>0</td>\n",
              "      <td>1</td>\n",
              "      <td>0</td>\n",
              "      <td>1</td>\n",
              "      <td>1</td>\n",
              "      <td>1</td>\n",
              "      <td>0</td>\n",
              "      <td>1</td>\n",
              "      <td>0</td>\n",
              "      <td>1</td>\n",
              "      <td>1</td>\n",
              "      <td>1</td>\n",
              "    </tr>\n",
              "    <tr>\n",
              "      <th>998</th>\n",
              "      <td>1</td>\n",
              "      <td>0</td>\n",
              "      <td>1</td>\n",
              "      <td>1</td>\n",
              "      <td>1</td>\n",
              "      <td>1</td>\n",
              "      <td>1</td>\n",
              "      <td>0</td>\n",
              "      <td>0</td>\n",
              "      <td>0</td>\n",
              "      <td>1</td>\n",
              "      <td>0</td>\n",
              "    </tr>\n",
              "    <tr>\n",
              "      <th>999</th>\n",
              "      <td>0</td>\n",
              "      <td>1</td>\n",
              "      <td>0</td>\n",
              "      <td>1</td>\n",
              "      <td>0</td>\n",
              "      <td>0</td>\n",
              "      <td>0</td>\n",
              "      <td>1</td>\n",
              "      <td>0</td>\n",
              "      <td>0</td>\n",
              "      <td>1</td>\n",
              "      <td>1</td>\n",
              "    </tr>\n",
              "  </tbody>\n",
              "</table>\n",
              "<p>1000 rows × 12 columns</p>\n",
              "</div>\n",
              "      <button class=\"colab-df-convert\" onclick=\"convertToInteractive('df-7369a00f-f7d7-4724-a3c0-9e2d4529323b')\"\n",
              "              title=\"Convert this dataframe to an interactive table.\"\n",
              "              style=\"display:none;\">\n",
              "        \n",
              "  <svg xmlns=\"http://www.w3.org/2000/svg\" height=\"24px\"viewBox=\"0 0 24 24\"\n",
              "       width=\"24px\">\n",
              "    <path d=\"M0 0h24v24H0V0z\" fill=\"none\"/>\n",
              "    <path d=\"M18.56 5.44l.94 2.06.94-2.06 2.06-.94-2.06-.94-.94-2.06-.94 2.06-2.06.94zm-11 1L8.5 8.5l.94-2.06 2.06-.94-2.06-.94L8.5 2.5l-.94 2.06-2.06.94zm10 10l.94 2.06.94-2.06 2.06-.94-2.06-.94-.94-2.06-.94 2.06-2.06.94z\"/><path d=\"M17.41 7.96l-1.37-1.37c-.4-.4-.92-.59-1.43-.59-.52 0-1.04.2-1.43.59L10.3 9.45l-7.72 7.72c-.78.78-.78 2.05 0 2.83L4 21.41c.39.39.9.59 1.41.59.51 0 1.02-.2 1.41-.59l7.78-7.78 2.81-2.81c.8-.78.8-2.07 0-2.86zM5.41 20L4 18.59l7.72-7.72 1.47 1.35L5.41 20z\"/>\n",
              "  </svg>\n",
              "      </button>\n",
              "      \n",
              "  <style>\n",
              "    .colab-df-container {\n",
              "      display:flex;\n",
              "      flex-wrap:wrap;\n",
              "      gap: 12px;\n",
              "    }\n",
              "\n",
              "    .colab-df-convert {\n",
              "      background-color: #E8F0FE;\n",
              "      border: none;\n",
              "      border-radius: 50%;\n",
              "      cursor: pointer;\n",
              "      display: none;\n",
              "      fill: #1967D2;\n",
              "      height: 32px;\n",
              "      padding: 0 0 0 0;\n",
              "      width: 32px;\n",
              "    }\n",
              "\n",
              "    .colab-df-convert:hover {\n",
              "      background-color: #E2EBFA;\n",
              "      box-shadow: 0px 1px 2px rgba(60, 64, 67, 0.3), 0px 1px 3px 1px rgba(60, 64, 67, 0.15);\n",
              "      fill: #174EA6;\n",
              "    }\n",
              "\n",
              "    [theme=dark] .colab-df-convert {\n",
              "      background-color: #3B4455;\n",
              "      fill: #D2E3FC;\n",
              "    }\n",
              "\n",
              "    [theme=dark] .colab-df-convert:hover {\n",
              "      background-color: #434B5C;\n",
              "      box-shadow: 0px 1px 3px 1px rgba(0, 0, 0, 0.15);\n",
              "      filter: drop-shadow(0px 1px 2px rgba(0, 0, 0, 0.3));\n",
              "      fill: #FFFFFF;\n",
              "    }\n",
              "  </style>\n",
              "\n",
              "      <script>\n",
              "        const buttonEl =\n",
              "          document.querySelector('#df-7369a00f-f7d7-4724-a3c0-9e2d4529323b button.colab-df-convert');\n",
              "        buttonEl.style.display =\n",
              "          google.colab.kernel.accessAllowed ? 'block' : 'none';\n",
              "\n",
              "        async function convertToInteractive(key) {\n",
              "          const element = document.querySelector('#df-7369a00f-f7d7-4724-a3c0-9e2d4529323b');\n",
              "          const dataTable =\n",
              "            await google.colab.kernel.invokeFunction('convertToInteractive',\n",
              "                                                     [key], {});\n",
              "          if (!dataTable) return;\n",
              "\n",
              "          const docLinkHtml = 'Like what you see? Visit the ' +\n",
              "            '<a target=\"_blank\" href=https://colab.research.google.com/notebooks/data_table.ipynb>data table notebook</a>'\n",
              "            + ' to learn more about interactive tables.';\n",
              "          element.innerHTML = '';\n",
              "          dataTable['output_type'] = 'display_data';\n",
              "          await google.colab.output.renderOutput(dataTable, element);\n",
              "          const docLink = document.createElement('div');\n",
              "          docLink.innerHTML = docLinkHtml;\n",
              "          element.appendChild(docLink);\n",
              "        }\n",
              "      </script>\n",
              "    </div>\n",
              "  </div>\n",
              "  "
            ],
            "text/plain": [
              "    0  1  2  3  4  5  6  7  8  9  10 11\n",
              "0    1  0  1  0  1  1  1  1  1  0  0  1\n",
              "1    1  0  0  1  0  0  1  1  0  1  1  1\n",
              "2    1  0  1  0  1  0  1  0  1  0  1  1\n",
              "3    0  1  0  1  0  0  0  1  0  0  0  0\n",
              "4    0  0  1  1  0  1  1  0  1  1  0  1\n",
              "..  .. .. .. .. .. .. .. .. .. .. .. ..\n",
              "995  0  1  0  0  0  0  0  0  1  0  1  1\n",
              "996  1  0  0  0  0  0  0  1  0  0  1  1\n",
              "997  0  1  0  1  1  1  0  1  0  1  1  1\n",
              "998  1  0  1  1  1  1  1  0  0  0  1  0\n",
              "999  0  1  0  1  0  0  0  1  0  0  1  1\n",
              "\n",
              "[1000 rows x 12 columns]"
            ]
          },
          "metadata": {},
          "execution_count": 5
        }
      ]
    },
    {
      "cell_type": "code",
      "source": [
        "most_commom = data_day3.apply(lambda x: x.mode()).iloc[0]\n",
        "least_commom = data_day3.apply(lambda x: (x.mode().astype(int) - 1).abs().astype(str)).iloc[0]"
      ],
      "metadata": {
        "id": "e04wlJWrqrRj"
      },
      "execution_count": null,
      "outputs": []
    },
    {
      "cell_type": "code",
      "source": [
        "gamma = int(''.join(most_commom.values), 2)\n",
        "epsilon = int(''.join(least_commom.values), 2)\n",
        "gamma * epsilon"
      ],
      "metadata": {
        "colab": {
          "base_uri": "https://localhost:8080/"
        },
        "id": "W1QD-P6NtSqG",
        "outputId": "0e589061-6081-4ec8-a97f-835744c2870a"
      },
      "execution_count": null,
      "outputs": [
        {
          "output_type": "execute_result",
          "data": {
            "text/plain": [
              "3320834"
            ]
          },
          "metadata": {},
          "execution_count": 7
        }
      ]
    },
    {
      "cell_type": "markdown",
      "source": [
        "## Part 2"
      ],
      "metadata": {
        "id": "-4bJYuDSwRzj"
      }
    },
    {
      "cell_type": "code",
      "source": [
        "new_data = data_day3\n",
        "for col in data_day3.columns:\n",
        "    counts = new_data[col].value_counts()\n",
        "    if (counts.diff().iloc[1] == 0.0):\n",
        "        new_data = new_data.loc[new_data[col] == '1']\n",
        "        continue\n",
        "    new_data = new_data.loc[new_data[col] == counts.index[0]]\n",
        "o2_rating = ''.join(new_data.values[0])"
      ],
      "metadata": {
        "id": "50TbW1kkuZrJ"
      },
      "execution_count": null,
      "outputs": []
    },
    {
      "cell_type": "code",
      "source": [
        "new_data = data_day3\n",
        "for col in data_day3.columns:\n",
        "    counts = new_data[col].value_counts()\n",
        "    if (counts.diff().iloc[-1] == 0.0):\n",
        "        new_data = new_data.loc[new_data[col] == '0']\n",
        "        continue\n",
        "    new_data = new_data.loc[new_data[col] == counts.index[-1]]\n",
        "co2_rating = ''.join(new_data.values[0])"
      ],
      "metadata": {
        "id": "arHy2sI7LMkW"
      },
      "execution_count": null,
      "outputs": []
    },
    {
      "cell_type": "code",
      "source": [
        "int(o2_rating, 2) * int(co2_rating, 2)"
      ],
      "metadata": {
        "id": "I4EvFGe8TPmD",
        "outputId": "8d372b85-7069-436e-db45-cbd1dda95315",
        "colab": {
          "base_uri": "https://localhost:8080/"
        }
      },
      "execution_count": null,
      "outputs": [
        {
          "output_type": "execute_result",
          "data": {
            "text/plain": [
              "4481199"
            ]
          },
          "metadata": {},
          "execution_count": 81
        }
      ]
    },
    {
      "cell_type": "markdown",
      "source": [
        "# Day 4"
      ],
      "metadata": {
        "id": "3NL6xTswBOVd"
      }
    },
    {
      "cell_type": "markdown",
      "source": [
        "## Part 1"
      ],
      "metadata": {
        "id": "H8kGEFsNBQx4"
      }
    },
    {
      "cell_type": "code",
      "source": [
        "random_numbers = None\n",
        "games = []\n",
        "\n",
        "with open('/gdrive/MyDrive/AdventOfCode/Day4/input.txt') as f:\n",
        "    random_numbers = np.asarray(f.readline().split(','), dtype=int)\n",
        "    for l in f:\n",
        "        games.append(np.asarray([f.readline().strip().replace('  ', ' ').split() for _ in range(5)], dtype=int))\n",
        "\n",
        "games = np.asarray(games)"
      ],
      "metadata": {
        "id": "f2zyf8IDTsMX"
      },
      "execution_count": null,
      "outputs": []
    },
    {
      "cell_type": "code",
      "source": [
        "def get_first_win_result(games):\n",
        "    game_check = np.zeros(games.shape, dtype=bool)\n",
        "    unmarked_sum = 0\n",
        "    for n in random_numbers:\n",
        "        for i in range(games.shape[0]):\n",
        "            game_check[i] = game_check[i] | (games[i] == n)\n",
        "            col_check = game_check[i].all(axis=0).any()\n",
        "            row_check = game_check[i].all(axis=1).any()\n",
        "            if col_check or row_check:\n",
        "                return n, games[i][np.logical_not(game_check[i])].sum()\n",
        "\n",
        "last_number, unmarked_sum = get_first_win_result(games)\n",
        "\n",
        "last_number * unmarked_sum"
      ],
      "metadata": {
        "id": "tNuHEKwGDJJK",
        "outputId": "75208eb9-a9cf-497b-b188-e2ce46bc83f0",
        "colab": {
          "base_uri": "https://localhost:8080/"
        }
      },
      "execution_count": null,
      "outputs": [
        {
          "output_type": "execute_result",
          "data": {
            "text/plain": [
              "16716"
            ]
          },
          "metadata": {},
          "execution_count": 56
        }
      ]
    },
    {
      "cell_type": "markdown",
      "source": [
        "## Part 2"
      ],
      "metadata": {
        "id": "E-fiLoraJK2V"
      }
    },
    {
      "cell_type": "code",
      "source": [
        "def get_last_win_result(games):\n",
        "    game_check = np.zeros(games.shape, dtype=bool)\n",
        "    unmarked_sum = 0\n",
        "    win_board_sequence = []\n",
        "    win_board_details = {}\n",
        "    for n in random_numbers:\n",
        "        for i in range(games.shape[0]):\n",
        "            if i not in win_board_sequence:\n",
        "                game_check[i] = game_check[i] | (games[i] == n)\n",
        "                col_check = game_check[i].all(axis=0).any()\n",
        "                row_check = game_check[i].all(axis=1).any()\n",
        "                if col_check or row_check:\n",
        "                    # print('Win board', i)\n",
        "                    win_board_sequence.append(i)\n",
        "                    win_board_details[i] = {'n': n, 'unmarked_sum': games[i][np.logical_not(game_check[i])].sum()}\n",
        "    # print('Last board to win', win_board_sequence[-1], win_board_details[win_board_sequence[-1]])\n",
        "    # print(games[i], '\\n' ,game_check[i])\n",
        "    return win_board_details[win_board_sequence[-1]]['n'], win_board_details[win_board_sequence[-1]]['unmarked_sum']\n",
        "\n",
        "last_number, unmarked_sum = get_last_win_result(games)\n",
        "\n",
        "last_number * unmarked_sum"
      ],
      "metadata": {
        "id": "iE2WetZaFGWg",
        "outputId": "0bd362eb-cb5f-4ead-dc57-2df9a5946d56",
        "colab": {
          "base_uri": "https://localhost:8080/"
        }
      },
      "execution_count": null,
      "outputs": [
        {
          "output_type": "execute_result",
          "data": {
            "text/plain": [
              "4880"
            ]
          },
          "metadata": {},
          "execution_count": 62
        }
      ]
    },
    {
      "cell_type": "markdown",
      "source": [
        "# Day5"
      ],
      "metadata": {
        "id": "cU3OLYAQxTYU"
      }
    },
    {
      "cell_type": "markdown",
      "source": [
        "## Part 1"
      ],
      "metadata": {
        "id": "3b78Qq_SxbA7"
      }
    },
    {
      "cell_type": "code",
      "source": [
        "grid = np.zeros((1000, 1000))\n",
        "\n",
        "with open('/gdrive/MyDrive/AdventOfCode/Day5/input.txt') as f:\n",
        "    for l in f:\n",
        "        ((x1, y1), (x2, y2)) = map(lambda x: map(int, x.split(',')), l.strip().split(' -> '))\n",
        "        if (x1 == x2 or y1 == y2):\n",
        "            grid[min(x1, x2):max(x1, x2)+1, min(y1, y2):max(y1, y2)+1] += 1\n",
        "\n",
        "(grid >= 2).sum()"
      ],
      "metadata": {
        "id": "XyD0l2XrKKeS",
        "colab": {
          "base_uri": "https://localhost:8080/"
        },
        "outputId": "557f41de-eb8d-4615-fb33-e1ef97f80517"
      },
      "execution_count": 43,
      "outputs": [
        {
          "output_type": "execute_result",
          "data": {
            "text/plain": [
              "6461"
            ]
          },
          "metadata": {},
          "execution_count": 43
        }
      ]
    },
    {
      "cell_type": "markdown",
      "source": [
        "## Part 2"
      ],
      "metadata": {
        "id": "HDXL8DTi4WEY"
      }
    },
    {
      "cell_type": "code",
      "source": [
        "grid = np.zeros((1000, 1000))\n",
        "\n",
        "with open('/gdrive/MyDrive/AdventOfCode/Day5/input.txt') as f:\n",
        "    for l in f:\n",
        "        ((x1, y1), (x2, y2)) = map(lambda x: map(int, x.split(',')), l.strip().split(' -> '))\n",
        "        if (x1 == x2 or y1 == y2):\n",
        "            grid[min(x1, x2):max(x1, x2)+1, min(y1, y2):max(y1, y2)+1] += 1\n",
        "        else:\n",
        "            min_point = min((x1, y1), (x2, y2))\n",
        "            max_point = max((x1, y1), (x2, y2))\n",
        "            grid_aux = grid[min(x1, x2):max(x1, x2)+1, min(y1, y2):max(y1, y2)+1]\n",
        "            \n",
        "            for i in range(grid_aux.shape[0]):\n",
        "                if (sum(min_point) > sum(max_point)):\n",
        "                    grid_aux[i, i] += 1\n",
        "                else:\n",
        "                    grid_aux[grid_aux.shape[0]-i-1, i] += 1\n",
        "\n",
        "(grid >= 2).sum()"
      ],
      "metadata": {
        "id": "oLxNS_IezHLM",
        "outputId": "fa516b0c-12ba-4fe7-dcd4-b758129884ac",
        "colab": {
          "base_uri": "https://localhost:8080/"
        }
      },
      "execution_count": 89,
      "outputs": [
        {
          "output_type": "execute_result",
          "data": {
            "text/plain": [
              "19954"
            ]
          },
          "metadata": {},
          "execution_count": 89
        }
      ]
    }
  ]
}